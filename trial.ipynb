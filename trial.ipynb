{
 "cells": [
  {
   "cell_type": "code",
   "execution_count": 44,
   "metadata": {},
   "outputs": [],
   "source": [
    "from PIL import Image, ExifTags\n",
    "img = Image.open(\"Images/1.jpeg\")\n",
    "exif = {ExifTags.TAGS[k]: v for k, v in img._getexif().items() if k in ExifTags.TAGS}"
   ]
  },
  {
   "cell_type": "code",
   "execution_count": 45,
   "metadata": {},
   "outputs": [
    {
     "name": "stdout",
     "output_type": "stream",
     "text": [
      "GPSInfo {1: 'N', 2: (51.0, 55.0, 33.77), 3: 'E', 4: (4.0, 30.0, 57.31), 12: 'K', 13: 0.0, 16: 'M', 17: 62.9287109375, 23: 'M', 24: 62.9287109375, 31: 4383.776234567901} <class 'dict'>\n",
      "ResolutionUnit 2 <class 'int'>\n",
      "ExifOffset 242 <class 'int'>\n",
      "Make Apple <class 'str'>\n",
      "Model iPhone 12 Pro Max <class 'str'>\n",
      "Software 16.2 <class 'str'>\n",
      "Orientation 1 <class 'int'>\n",
      "DateTime 2022:12:27 19:10:27 <class 'str'>\n",
      "YCbCrPositioning 1 <class 'int'>\n",
      "XResolution 72.0 <class 'PIL.TiffImagePlugin.IFDRational'>\n",
      "YResolution 72.0 <class 'PIL.TiffImagePlugin.IFDRational'>\n",
      "HostComputer iPhone 12 Pro Max <class 'str'>\n",
      "ExifVersion b'0232' <class 'bytes'>\n",
      "ComponentsConfiguration b'\\x01\\x02\\x03\\x00' <class 'bytes'>\n",
      "ShutterSpeedValue 3.916414898317431 <class 'PIL.TiffImagePlugin.IFDRational'>\n",
      "DateTimeOriginal 2022:12:27 19:10:27 <class 'str'>\n",
      "DateTimeDigitized 2022:12:27 19:10:27 <class 'str'>\n",
      "ApertureValue 1.3561438092556088 <class 'PIL.TiffImagePlugin.IFDRational'>\n",
      "BrightnessValue -5.677773709264006 <class 'PIL.TiffImagePlugin.IFDRational'>\n",
      "ExposureBiasValue -1.0692626615722298 <class 'PIL.TiffImagePlugin.IFDRational'>\n",
      "MeteringMode 3 <class 'int'>\n",
      "Flash 16 <class 'int'>\n",
      "FocalLength 5.1 <class 'PIL.TiffImagePlugin.IFDRational'>\n",
      "ColorSpace 65535 <class 'int'>\n",
      "ExifImageWidth 4032 <class 'int'>\n",
      "FocalLengthIn35mmFilm 26 <class 'int'>\n",
      "SceneCaptureType 0 <class 'int'>\n",
      "OffsetTime +01:00 <class 'str'>\n",
      "OffsetTimeOriginal +01:00 <class 'str'>\n",
      "OffsetTimeDigitized +01:00 <class 'str'>\n",
      "SubsecTimeOriginal 072 <class 'str'>\n",
      "SubjectLocation (1592, 891, 751, 749) <class 'tuple'>\n",
      "SubsecTimeDigitized 072 <class 'str'>\n",
      "ExifImageHeight 3024 <class 'int'>\n",
      "SensingMethod 2 <class 'int'>\n",
      "ExposureTime 0.06666666666666667 <class 'PIL.TiffImagePlugin.IFDRational'>\n",
      "FNumber 1.6 <class 'PIL.TiffImagePlugin.IFDRational'>\n",
      "SceneType b'\\x01' <class 'bytes'>\n",
      "ExposureProgram 2 <class 'int'>\n",
      "ISOSpeedRatings 2500 <class 'int'>\n",
      "ExposureMode 0 <class 'int'>\n",
      "FlashPixVersion b'0100' <class 'bytes'>\n",
      "WhiteBalance 0 <class 'int'>\n",
      "LensSpecification (1.5399999618512084, 7.5, 1.6, 2.4) <class 'tuple'>\n",
      "LensMake Apple <class 'str'>\n",
      "LensModel iPhone 12 Pro Max back triple camera 5.1mm f/1.6 <class 'str'>\n",
      "CompositeImage 2 <class 'int'>\n",
      "MakerNote b'Apple iOS\\x00\\x00\\x01MM\\x00)\\x00\\x01\\x00\\t\\x00\\x00\\x00\\x01\\x00\\x00\\x00\\x0e\\x00\\x02\\x00\\x07\\x00\\x00\\x02\\x00\\x00\\x00\\x02\\x00\\x00\\x03\\x00\\x07\\x00\\x00\\x00h\\x00\\x00\\x04\\x00\\x00\\x04\\x00\\t\\x00\\x00\\x00\\x01\\x00\\x00\\x00\\x01\\x00\\x05\\x00\\t\\x00\\x00\\x00\\x01\\x00\\x00\\x00W\\x00\\x06\\x00\\t\\x00\\x00\\x00\\x01\\x00\\x00\\x003\\x00\\x07\\x00\\t\\x00\\x00\\x00\\x01\\x00\\x00\\x00\\x01\\x00\\x08\\x00\\n\\x00\\x00\\x00\\x03\\x00\\x00\\x04h\\x00\\x0c\\x00\\n\\x00\\x00\\x00\\x02\\x00\\x00\\x04\\x80\\x00\\r\\x00\\t\\x00\\x00\\x00\\x01\\x00\\x00\\x00$\\x00\\x0e\\x00\\t\\x00\\x00\\x00\\x01\\x00\\x00\\x00\\x04\\x00\\x10\\x00\\t\\x00\\x00\\x00\\x01\\x00\\x00\\x00\\x01\\x00\\x14\\x00\\t\\x00\\x00\\x00\\x01\\x00\\x00\\x00\\x0c\\x00\\x17\\x00\\x10\\x00\\x00\\x00\\x01\\x00\\x00\\x04\\x90\\x00\\x19\\x00\\t\\x00\\x00\\x00\\x01\\x00\\x00 \\x00\\x00\\x1f\\x00\\t\\x00\\x00\\x00\\x01\\x00\\x00\\x00\\x00\\x00 \\x00\\x02\\x00\\x00\\x00%\\x00\\x00\\x04\\x98\\x00!\\x00\\n\\x00\\x00\\x00\\x01\\x00\\x00\\x04\\xbd\\x00#\\x00\\t\\x00\\x00\\x00\\x02\\x00\\x00\\x04\\xc5\\x00%\\x00\\x10\\x00\\x00\\x00\\x01\\x00\\x00\\x04\\xcd\\x00&\\x00\\t\\x00\\x00\\x00\\x01\\x00\\x00\\x00\\x03\\x00\\'\\x00\\n\\x00\\x00\\x00\\x01\\x00\\x00\\x04\\xd5\\x00+\\x00\\x02\\x00\\x00\\x00%\\x00\\x00\\x04\\xdd\\x00-\\x00\\t\\x00\\x00\\x00\\x01\\x00\\x00\\x0e\\xbd\\x00.\\x00\\t\\x00\\x00\\x00\\x01\\x00\\x00\\x00\\x01\\x00/\\x00\\t\\x00\\x00\\x00\\x01\\x00\\x00\\x00\\x1e\\x000\\x00\\n\\x00\\x00\\x00\\x01\\x00\\x00\\x05\\x02\\x003\\x00\\t\\x00\\x00\\x00\\x01\\x00\\x000\\x00\\x004\\x00\\t\\x00\\x00\\x00\\x01\\x00\\x00\\x00\\x04\\x005\\x00\\t\\x00\\x00\\x00\\x01\\x00\\x00\\x00\\x03\\x006\\x00\\t\\x00\\x00\\x00\\x01\\x00\\x00\\x00\\x01\\x007\\x00\\t\\x00\\x00\\x00\\x01\\x00\\x00\\x00\\x01\\x008\\x00\\t\\x00\\x00\\x00\\x01\\x00\\x00\\x01\\xe3\\x009\\x00\\t\\x00\\x00\\x00\\x01\\x00\\x00\\x00\\x02\\x00:\\x00\\t\\x00\\x00\\x00\\x01\\x00\\x00\\x00\\x04\\x00;\\x00\\t\\x00\\x00\\x00\\x01\\x00\\x00\\x00\\x00\\x00<\\x00\\t\\x00\\x00\\x00\\x01\\x00\\x00\\x00\\x04\\x00=\\x00\\t\\x00\\x00\\x00\\x01\\x00\\x00\\x00\\x00\\x00A\\x00\\t\\x00\\x00\\x00\\x01\\x00\\x00\\x00\\x00\\x00B\\x00\\t\\x00\\x00\\x00\\x01\\x00\\x00\\x00\\x00\\x00J\\x00\\t\\x00\\x00\\x00\\x01\\x00\\x00\\x00\\x02\\x00\\x00\\x00\\x00\\x11\\x00\\x11\\x00\\x11\\x00\\x11\\x00\\x11\\x00\\x10\\x00\\x10\\x00\\x0f\\x00\\x10\\x00\\x10\\x00\\x11\\x00\\x11\\x00\\x12\\x00\\x12\\x00\\x13\\x00\\x12\\x00\\x15\\x00\\x14\\x00\\x14\\x00\\x13\\x00\\x12\\x00\\x12\\x00\\x12\\x00\\x12\\x00\\x12\\x00\\x13\\x00\\x13\\x00\\x13\\x00\\x13\\x00\\x14\\x00\\x14\\x00\\x14\\x00\\x17\\x00\\x17\\x00\\x15\\x00\\x15\\x00\\x15\\x00\\x15\\x00\\x15\\x00\\x15\\x00\\x15\\x00\\x15\\x00\\x14\\x00\\x15\\x00\\x15\\x00\\x15\\x00\\x16\\x00\\x17\\x00\\x1c\\x00\\x1a\\x00\\x18\\x00\\x18\\x00\\x18\\x00\\x18\\x00\\x18\\x00\\x19\\x00\\x19\\x00\\x19\\x00\\x19\\x00\\x18\\x00\\x18\\x00\\x18\\x00\\x1a\\x00\\x1a\\x00\\x1f\\x00\\x1e\\x00\\x1d\\x00\\x1c\\x00\\x1c\\x00\\x1d\\x00\\x1d\\x00\\x1e\\x00\\x1f\\x00\\x1e\\x00\\x1e\\x00\\x1c\\x00\\x1c\\x00\\x1d\\x00\\x1c\\x00\\x1e\\x00\"\\x00\"\\x00\"\\x00#\\x00#\\x00\"\\x00\"\\x00!\\x00 \\x00 \\x00\\x1f\\x00\\x1f\\x00\\x1f\\x00\\x1f\\x00!\\x00#\\x00e\\x003\\x00+\\x004\\x00,\\x00+\\x00+\\x00*\\x00(\\x00%\\x00\"\\x00!\\x00\"\\x00$\\x00&\\x00*\\x00\\x03\\x01x\\x00_\\x00\\xd9\\x00\\x97\\x00\\xce\\x00;\\x00H\\x00T\\x00B\\x00P\\x00E\\x00l\\x00Y\\x00\\x9c\\x00\\xb3\\x00\\xc6\\x01\\xaa\\x00L\\x00i\\x00d\\x00y\\x00\\xb5\\x00\\x8d\\x00\\xd8\\x00\\xb3\\x00]\\x00L\\x00[\\x00Q\\x00\\\\\\x00\\xc5\\x00K\\x00\\x13\\x00\\x0c\\x00\\x19\\x00\\x0b\\x00\\x11\\x00\\r\\x00\\x0c\\x00\\x0f\\x00\\r\\x00\\x0b\\x00\\x0b\\x00\\r\\x00\\r\\x00\\x11\\x00\\'\\x00\\x1a\\x00\\x0f\\x00\\n\\x00\\x11\\x00\\n\\x00\\x0b\\x00\\n\\x00\\n\\x00\\x0c\\x00\\n\\x00\\t\\x00\\n\\x00\\n\\x00\\x0b\\x00\\x0c\\x00\\x11\\x00\\x17\\x00\\r\\x00\\n\\x00\\r\\x00\\t\\x00\\n\\x00\\t\\x00\\t\\x00\\n\\x00\\n\\x00\\t\\x00\\t\\x00\\n\\x00\\n\\x00\\n\\x00\\x0f\\x00\\x14\\x00\\x0c\\x00\\t\\x00\\x0c\\x00\\n\\x00\\t\\x00\\t\\x00\\x08\\x00\\t\\x00\\t\\x00\\t\\x00\\t\\x00\\n\\x00\\n\\x00\\n\\x00\\x0f\\x00\\x11\\x00\\x0c\\x00\\n\\x00\\n\\x00\\t\\x00\\t\\x00\\x08\\x00\\x08\\x00\\t\\x00\\n\\x00\\t\\x00\\n\\x00\\n\\x00\\x0b\\x00\\x0c\\x00\\x0f\\x00\\x12\\x00\\r\\x00\\x0c\\x00\\x0c\\x00\\x0b\\x00\\n\\x00\\t\\x00\\t\\x00\\n\\x00\\n\\x00\\x0b\\x00\\x0b\\x00\\x0c\\x00\\x0c\\x00\\x0c\\x00\\x11\\x00\\x14\\x00\\x0e\\x00\\x0c\\x00\\x0c\\x00\\x0b\\x00\\x0c\\x00\\n\\x00\\t\\x00\\t\\x00\\x0b\\x00\\x0c\\x00\\x0c\\x00\\r\\x00\\r\\x00\\x0e\\x00\\x10\\x00bplist00\\xd4\\x01\\x02\\x03\\x04\\x05\\x06\\x07\\x08UflagsUvalueYtimescaleUepoch\\x10\\x01\\x13\\x00\\x00\\x80\\x14\\x11\\xef\\xd7f\\x12;\\x9a\\xca\\x00\\x10\\x00\\x08\\x11\\x17\\x1d\\'-/8=\\x00\\x00\\x00\\x00\\x00\\x00\\x01\\x01\\x00\\x00\\x00\\x00\\x00\\x00\\x00\\t\\x00\\x00\\x00\\x00\\x00\\x00\\x00\\x00\\x00\\x00\\x00\\x00\\x00\\x00\\x00?\\xff\\xffP\\xd9\\x00\\x00\\xb0\\xe7\\x00\\x00\\x1aw\\x00\\x03\\x82\\xab\\xff\\xff\\xfd\\x11\\x00\\x01\\xdc\\x93\\x00\\x00\\x00-\\x00\\x00\\x01\\x00\\x00\\x00\\x00_\\x00\\x00\\x01\\x00\\x00\\x00\\x00\\x00B@ \\x00E4F5CE92-0D21-43E4-9772-AB5D9857667F\\x00\\x00\\x00\\xbd\\x10\\x00\\x00\\xfec\\x00~\\x16r\\x10\\x00\\x00,\\x00\\x00\\x00\\x00\\x00\\x04\\x1cl\\x00\\x02l\\x9d\\x00\\x00,\\x1e15888113-8F40-4F2E-9BA0-FA345A71288E\\x00\\x00\\x00\\x0f\\xde\\x00\\x14G\\x01' <class 'bytes'>\n"
     ]
    }
   ],
   "source": [
    "for attribute in exif:\n",
    "    print(attribute, exif[attribute], type(exif[attribute]))"
   ]
  },
  {
   "cell_type": "code",
   "execution_count": 35,
   "metadata": {},
   "outputs": [
    {
     "name": "stdout",
     "output_type": "stream",
     "text": [
      "1.3561438092556088\n"
     ]
    }
   ],
   "source": [
    "print(exif[\"ApertureValue\"])"
   ]
  },
  {
   "cell_type": "code",
   "execution_count": 56,
   "metadata": {},
   "outputs": [
    {
     "name": "stdout",
     "output_type": "stream",
     "text": [
      "Latitude:  51.9260\n",
      "Longitude:  4.5191\n",
      "\n",
      "Location of the given Latitude and Longitude:\n",
      "38, Charlotte de Bourbonlaan, Kralingen-Oost, Kralingen-Crooswijk, Rotterdam, Zuid-Holland, Nederland, 3062 GG, Nederland\n"
     ]
    }
   ],
   "source": [
    "# Import module\n",
    "from geopy.geocoders import Nominatim\n",
    "\n",
    "# Initialize Nominatim API\n",
    "geolocator = Nominatim(user_agent=\"geoapiExercises\")\n",
    "\n",
    "# Assign Latitude & Longitude\n",
    "Latitude = \"51.9260\"\n",
    "Longitude = \"4.5191\"\n",
    "\n",
    "# Displaying Latitude and Longitude\n",
    "print(\"Latitude: \", Latitude)\n",
    "print(\"Longitude: \", Longitude)\n",
    "\n",
    "# Get location with geocode\n",
    "location = geolocator.geocode(Latitude+\",\"+Longitude)\n",
    "\n",
    "# Display location\n",
    "print(\"\\nLocation of the given Latitude and Longitude:\")\n",
    "print(location)"
   ]
  },
  {
   "cell_type": "code",
   "execution_count": 43,
   "metadata": {},
   "outputs": [],
   "source": [
    "import geocoder"
   ]
  },
  {
   "cell_type": "code",
   "execution_count": 78,
   "metadata": {},
   "outputs": [
    {
     "name": "stdout",
     "output_type": "stream",
     "text": [
      "Nederland\n"
     ]
    }
   ],
   "source": [
    "g = geocoder.osm([51.9260, 4.5191], method='reverse').current_result\n",
    "cc = g.country\n",
    "print(cc)"
   ]
  },
  {
   "cell_type": "code",
   "execution_count": 69,
   "metadata": {},
   "outputs": [
    {
     "name": "stdout",
     "output_type": "stream",
     "text": [
      "📷\n"
     ]
    }
   ],
   "source": [
    "import emoji\n",
    "print(emoji.emojize(\":camera:\"))"
   ]
  },
  {
   "cell_type": "code",
   "execution_count": 80,
   "metadata": {},
   "outputs": [
    {
     "name": "stdout",
     "output_type": "stream",
     "text": [
      "🇳🇱\n"
     ]
    }
   ],
   "source": [
    "print(emoji.emojize(\":Netherlands:\"))"
   ]
  },
  {
   "cell_type": "code",
   "execution_count": null,
   "metadata": {},
   "outputs": [],
   "source": []
  }
 ],
 "metadata": {
  "kernelspec": {
   "display_name": "projects",
   "language": "python",
   "name": "python3"
  },
  "language_info": {
   "codemirror_mode": {
    "name": "ipython",
    "version": 3
   },
   "file_extension": ".py",
   "mimetype": "text/x-python",
   "name": "python",
   "nbconvert_exporter": "python",
   "pygments_lexer": "ipython3",
   "version": "3.10.8"
  },
  "orig_nbformat": 4,
  "vscode": {
   "interpreter": {
    "hash": "07153f1268f50cd97af52f49dd73178b009c9bf8096c3c3d6427ca815f66ffee"
   }
  }
 },
 "nbformat": 4,
 "nbformat_minor": 2
}
